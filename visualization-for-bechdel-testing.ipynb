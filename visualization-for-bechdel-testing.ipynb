{
 "cells": [
  {
   "cell_type": "code",
   "execution_count": 44,
   "metadata": {},
   "outputs": [],
   "source": [
    "import pandas as pd\n",
    "import numpy as np\n",
    "import altair as alt"
   ]
  },
  {
   "cell_type": "code",
   "execution_count": 45,
   "metadata": {},
   "outputs": [
    {
     "data": {
      "text/plain": [
       "RendererRegistry.enable('default')"
      ]
     },
     "execution_count": 45,
     "metadata": {},
     "output_type": "execute_result"
    }
   ],
   "source": [
    "# enable correct rendering\n",
    "alt.renderers.enable('default')"
   ]
  },
  {
   "cell_type": "code",
   "execution_count": 46,
   "metadata": {},
   "outputs": [
    {
     "data": {
      "text/plain": [
       "DataTransformerRegistry.enable('json')"
      ]
     },
     "execution_count": 46,
     "metadata": {},
     "output_type": "execute_result"
    }
   ],
   "source": [
    "# uses intermediate json files to speed things up\n",
    "alt.data_transformers.enable('json')"
   ]
  },
  {
   "cell_type": "code",
   "execution_count": 47,
   "metadata": {},
   "outputs": [],
   "source": [
    "# read all the tables\n",
    "all_tests_df = pd.read_csv('nextBechdel_allTests.csv')\n",
    "cast_gender = pd.read_csv('nextBechdel_castGender.csv')\n",
    "top_2016 = pd.read_csv('top_2016.csv')"
   ]
  },
  {
   "cell_type": "code",
   "execution_count": 48,
   "metadata": {},
   "outputs": [],
   "source": [
    "# set up the tables for use\n",
    "actors_movies = top_2016.set_index('Movie').join(cast_gender.set_index('MOVIE')).join(all_tests_df.set_index('movie')).reset_index().dropna()\n",
    "movies_order = top_2016.sort_values(by=['Rank'])['Movie'].tolist()"
   ]
  },
  {
   "cell_type": "code",
   "execution_count": 49,
   "metadata": {},
   "outputs": [],
   "source": [
    "base = alt.Chart(actors_movies).transform_filter(\n",
    "    (alt.datum.TYPE != 'Unknown') & (alt.datum.GENDER != 'Unknown') & (alt.datum.GENDER != 'null')\n",
    ")"
   ]
  },
  {
   "cell_type": "code",
   "execution_count": 50,
   "metadata": {},
   "outputs": [],
   "source": [
    "encoding = base.transform_filter(\n",
    "    alt.datum.GENDER == 'Female'\n",
    ").encode(\n",
    "    y= alt.Y(\n",
    "        'index:N',\n",
    "        sort= movies_order\n",
    "    ),\n",
    "    x=alt.X('count(index):Q',\n",
    "            title='cast count'),\n",
    ")\n",
    "\n",
    "def m_bar():\n",
    "    return encoding.mark_bar().properties(title='Female')\n",
    "\n",
    "bar = m_bar()"
   ]
  },
  {
   "cell_type": "code",
   "execution_count": 51,
   "metadata": {},
   "outputs": [
    {
     "data": {
      "text/html": [
       "\n",
       "<div id=\"altair-viz-26a7d8c5873f42d6a1f5adc89accd07e\"></div>\n",
       "<script type=\"text/javascript\">\n",
       "  (function(spec, embedOpt){\n",
       "    const outputDiv = document.getElementById(\"altair-viz-26a7d8c5873f42d6a1f5adc89accd07e\");\n",
       "    const paths = {\n",
       "      \"vega\": \"https://cdn.jsdelivr.net/npm//vega@5?noext\",\n",
       "      \"vega-lib\": \"https://cdn.jsdelivr.net/npm//vega-lib?noext\",\n",
       "      \"vega-lite\": \"https://cdn.jsdelivr.net/npm//vega-lite@4.0.2?noext\",\n",
       "      \"vega-embed\": \"https://cdn.jsdelivr.net/npm//vega-embed@6?noext\",\n",
       "    };\n",
       "\n",
       "    function loadScript(lib) {\n",
       "      return new Promise(function(resolve, reject) {\n",
       "        var s = document.createElement('script');\n",
       "        s.src = paths[lib];\n",
       "        s.async = true;\n",
       "        s.onload = () => resolve(paths[lib]);\n",
       "        s.onerror = () => reject(`Error loading script: ${paths[lib]}`);\n",
       "        document.getElementsByTagName(\"head\")[0].appendChild(s);\n",
       "      });\n",
       "    }\n",
       "\n",
       "    function showError(err) {\n",
       "      outputDiv.innerHTML = `<div class=\"error\" style=\"color:red;\">${err}</div>`;\n",
       "      throw err;\n",
       "    }\n",
       "\n",
       "    function displayChart(vegaEmbed) {\n",
       "      vegaEmbed(outputDiv, spec, embedOpt)\n",
       "        .catch(err => showError(`Javascript Error: ${err.message}<br>This usually means there's a typo in your chart specification. See the javascript console for the full traceback.`));\n",
       "    }\n",
       "\n",
       "    if(typeof define === \"function\" && define.amd) {\n",
       "      requirejs.config({paths});\n",
       "      require([\"vega-embed\"], displayChart, err => showError(`Error loading script: ${err.message}`));\n",
       "    } else if (typeof vegaEmbed === \"function\") {\n",
       "      displayChart(vegaEmbed);\n",
       "    } else {\n",
       "      loadScript(\"vega\")\n",
       "        .then(() => loadScript(\"vega-lite\"))\n",
       "        .then(() => loadScript(\"vega-embed\"))\n",
       "        .catch(showError)\n",
       "        .then(() => displayChart(vegaEmbed));\n",
       "    }\n",
       "  })({\"config\": {\"view\": {\"continuousWidth\": 400, \"continuousHeight\": 300}}, \"data\": {\"url\": \"altair-data-b2fe8fb5616f2f0ec61f01d320bf8001.json\", \"format\": {\"type\": \"json\"}}, \"mark\": \"bar\", \"encoding\": {\"x\": {\"type\": \"quantitative\", \"aggregate\": \"count\", \"field\": \"index\", \"title\": \"cast count\"}, \"y\": {\"type\": \"nominal\", \"field\": \"index\", \"sort\": [\"Rogue One\", \"Finding Dory\", \"Captain America: Civil War\", \"The Secret Life of Pets\", \"The Jungle Book\", \"Deadpool\", \"Zootopia\", \"Batman v Superman: Dawn of Justice\", \"Suicide Squad\", \"Sing\", \"Moana\", \"Fantastic Beasts and Where to Find Them\", \"Doctor Strange\", \"Hidden Figures\", \"Jason Bourne\", \"Star Trek Beyond\", \"X-Men: Apocalypse\", \"Trolls\", \"La La Land\", \"Kung Fu Panda 3\", \"Ghostbusters\", \"Central Intelligence\", \"The Legend of Tarzan\", \"Sully\", \"Bad Moms\", \"The Angry Birds Movie\", \"Independence Day: Resurgence\", \"The Conjuring 2\", \"Arrival\", \"Passengers\", \"Sausage Party\", \"The Magnificent Seven\", \"Ride Along 2\", \"Don't Breathe\", \"Miss Peregrine's Home for Peculiar Children\", \"The Accountant\", \"Teenage Mutant Ninja Turtles: Out of the Shadows\", \"The Purge: Election Year\", \"Alice Through the Looking Glass\", \"Pete's Dragon\", \"The Girl on the Train\", \"Boo! A Madea Halloween\", \"Storks\", \"10 Cloverfield Lane\", \"Lights Out\", \"Hacksaw Ridge\", \"Allegiant\", \"Now You See Me 2\", \"Ice Age: Collision Course\", \"The Boss\"]}}, \"title\": \"Female\", \"transform\": [{\"filter\": \"(((datum.TYPE !== 'Unknown') && (datum.GENDER !== 'Unknown')) && (datum.GENDER !== 'null'))\"}, {\"filter\": \"(datum.GENDER === 'Female')\"}], \"$schema\": \"https://vega.github.io/schema/vega-lite/v4.0.2.json\"}, {\"mode\": \"vega-lite\"});\n",
       "</script>"
      ],
      "text/plain": [
       "alt.Chart(...)"
      ]
     },
     "execution_count": 51,
     "metadata": {},
     "output_type": "execute_result"
    }
   ],
   "source": [
    "bar"
   ]
  },
  {
   "cell_type": "code",
   "execution_count": 52,
   "metadata": {},
   "outputs": [],
   "source": [
    "def m_circle():\n",
    "    \"\"\"\n",
    "    return the call to altair function that uses the circle mark for the variables encoded in the previous example \n",
    "    \"\"\"\n",
    "    # return encoding. (...)\n",
    "    return encoding.mark_circle().properties(title='Female')    "
   ]
  },
  {
   "cell_type": "code",
   "execution_count": 53,
   "metadata": {},
   "outputs": [
    {
     "data": {
      "text/html": [
       "\n",
       "<div id=\"altair-viz-c14b776ae5fc4bd9a70afcafc6ab4b0d\"></div>\n",
       "<script type=\"text/javascript\">\n",
       "  (function(spec, embedOpt){\n",
       "    const outputDiv = document.getElementById(\"altair-viz-c14b776ae5fc4bd9a70afcafc6ab4b0d\");\n",
       "    const paths = {\n",
       "      \"vega\": \"https://cdn.jsdelivr.net/npm//vega@5?noext\",\n",
       "      \"vega-lib\": \"https://cdn.jsdelivr.net/npm//vega-lib?noext\",\n",
       "      \"vega-lite\": \"https://cdn.jsdelivr.net/npm//vega-lite@4.0.2?noext\",\n",
       "      \"vega-embed\": \"https://cdn.jsdelivr.net/npm//vega-embed@6?noext\",\n",
       "    };\n",
       "\n",
       "    function loadScript(lib) {\n",
       "      return new Promise(function(resolve, reject) {\n",
       "        var s = document.createElement('script');\n",
       "        s.src = paths[lib];\n",
       "        s.async = true;\n",
       "        s.onload = () => resolve(paths[lib]);\n",
       "        s.onerror = () => reject(`Error loading script: ${paths[lib]}`);\n",
       "        document.getElementsByTagName(\"head\")[0].appendChild(s);\n",
       "      });\n",
       "    }\n",
       "\n",
       "    function showError(err) {\n",
       "      outputDiv.innerHTML = `<div class=\"error\" style=\"color:red;\">${err}</div>`;\n",
       "      throw err;\n",
       "    }\n",
       "\n",
       "    function displayChart(vegaEmbed) {\n",
       "      vegaEmbed(outputDiv, spec, embedOpt)\n",
       "        .catch(err => showError(`Javascript Error: ${err.message}<br>This usually means there's a typo in your chart specification. See the javascript console for the full traceback.`));\n",
       "    }\n",
       "\n",
       "    if(typeof define === \"function\" && define.amd) {\n",
       "      requirejs.config({paths});\n",
       "      require([\"vega-embed\"], displayChart, err => showError(`Error loading script: ${err.message}`));\n",
       "    } else if (typeof vegaEmbed === \"function\") {\n",
       "      displayChart(vegaEmbed);\n",
       "    } else {\n",
       "      loadScript(\"vega\")\n",
       "        .then(() => loadScript(\"vega-lite\"))\n",
       "        .then(() => loadScript(\"vega-embed\"))\n",
       "        .catch(showError)\n",
       "        .then(() => displayChart(vegaEmbed));\n",
       "    }\n",
       "  })({\"config\": {\"view\": {\"continuousWidth\": 400, \"continuousHeight\": 300}}, \"data\": {\"url\": \"altair-data-b2fe8fb5616f2f0ec61f01d320bf8001.json\", \"format\": {\"type\": \"json\"}}, \"mark\": \"circle\", \"encoding\": {\"x\": {\"type\": \"quantitative\", \"aggregate\": \"count\", \"field\": \"index\", \"title\": \"cast count\"}, \"y\": {\"type\": \"nominal\", \"field\": \"index\", \"sort\": [\"Rogue One\", \"Finding Dory\", \"Captain America: Civil War\", \"The Secret Life of Pets\", \"The Jungle Book\", \"Deadpool\", \"Zootopia\", \"Batman v Superman: Dawn of Justice\", \"Suicide Squad\", \"Sing\", \"Moana\", \"Fantastic Beasts and Where to Find Them\", \"Doctor Strange\", \"Hidden Figures\", \"Jason Bourne\", \"Star Trek Beyond\", \"X-Men: Apocalypse\", \"Trolls\", \"La La Land\", \"Kung Fu Panda 3\", \"Ghostbusters\", \"Central Intelligence\", \"The Legend of Tarzan\", \"Sully\", \"Bad Moms\", \"The Angry Birds Movie\", \"Independence Day: Resurgence\", \"The Conjuring 2\", \"Arrival\", \"Passengers\", \"Sausage Party\", \"The Magnificent Seven\", \"Ride Along 2\", \"Don't Breathe\", \"Miss Peregrine's Home for Peculiar Children\", \"The Accountant\", \"Teenage Mutant Ninja Turtles: Out of the Shadows\", \"The Purge: Election Year\", \"Alice Through the Looking Glass\", \"Pete's Dragon\", \"The Girl on the Train\", \"Boo! A Madea Halloween\", \"Storks\", \"10 Cloverfield Lane\", \"Lights Out\", \"Hacksaw Ridge\", \"Allegiant\", \"Now You See Me 2\", \"Ice Age: Collision Course\", \"The Boss\"]}}, \"title\": \"Female\", \"transform\": [{\"filter\": \"(((datum.TYPE !== 'Unknown') && (datum.GENDER !== 'Unknown')) && (datum.GENDER !== 'null'))\"}, {\"filter\": \"(datum.GENDER === 'Female')\"}], \"$schema\": \"https://vega.github.io/schema/vega-lite/v4.0.2.json\"}, {\"mode\": \"vega-lite\"});\n",
       "</script>"
      ],
      "text/plain": [
       "alt.Chart(...)"
      ]
     },
     "execution_count": 53,
     "metadata": {},
     "output_type": "execute_result"
    }
   ],
   "source": [
    "circle = m_circle()\n",
    "circle"
   ]
  },
  {
   "cell_type": "code",
   "execution_count": 54,
   "metadata": {},
   "outputs": [],
   "source": [
    "def female_actors():\n",
    "    \"\"\"\n",
    "    return the call to Altair function that uses the bar mark for the variables and the color for the TYPE \n",
    "    \"\"\"\n",
    "    encoding = base.encode(\n",
    "        y= alt.Y(\n",
    "            'index:N',\n",
    "            sort= movies_order,\n",
    "            axis=None\n",
    "        ),\n",
    "        x=alt.X('count(index):Q',\n",
    "                title='cast count'),\n",
    "        # add color encoding\n",
    "        color='TYPE', order=alt.Order('TYPE', sort='descending'))\n",
    "        \n",
    "    return encoding.mark_bar().properties(title='Female')"
   ]
  },
  {
   "cell_type": "code",
   "execution_count": 55,
   "metadata": {},
   "outputs": [
    {
     "data": {
      "text/html": [
       "\n",
       "<div id=\"altair-viz-f872af48f18f4f6d890f0309e0b8805d\"></div>\n",
       "<script type=\"text/javascript\">\n",
       "  (function(spec, embedOpt){\n",
       "    const outputDiv = document.getElementById(\"altair-viz-f872af48f18f4f6d890f0309e0b8805d\");\n",
       "    const paths = {\n",
       "      \"vega\": \"https://cdn.jsdelivr.net/npm//vega@5?noext\",\n",
       "      \"vega-lib\": \"https://cdn.jsdelivr.net/npm//vega-lib?noext\",\n",
       "      \"vega-lite\": \"https://cdn.jsdelivr.net/npm//vega-lite@4.0.2?noext\",\n",
       "      \"vega-embed\": \"https://cdn.jsdelivr.net/npm//vega-embed@6?noext\",\n",
       "    };\n",
       "\n",
       "    function loadScript(lib) {\n",
       "      return new Promise(function(resolve, reject) {\n",
       "        var s = document.createElement('script');\n",
       "        s.src = paths[lib];\n",
       "        s.async = true;\n",
       "        s.onload = () => resolve(paths[lib]);\n",
       "        s.onerror = () => reject(`Error loading script: ${paths[lib]}`);\n",
       "        document.getElementsByTagName(\"head\")[0].appendChild(s);\n",
       "      });\n",
       "    }\n",
       "\n",
       "    function showError(err) {\n",
       "      outputDiv.innerHTML = `<div class=\"error\" style=\"color:red;\">${err}</div>`;\n",
       "      throw err;\n",
       "    }\n",
       "\n",
       "    function displayChart(vegaEmbed) {\n",
       "      vegaEmbed(outputDiv, spec, embedOpt)\n",
       "        .catch(err => showError(`Javascript Error: ${err.message}<br>This usually means there's a typo in your chart specification. See the javascript console for the full traceback.`));\n",
       "    }\n",
       "\n",
       "    if(typeof define === \"function\" && define.amd) {\n",
       "      requirejs.config({paths});\n",
       "      require([\"vega-embed\"], displayChart, err => showError(`Error loading script: ${err.message}`));\n",
       "    } else if (typeof vegaEmbed === \"function\") {\n",
       "      displayChart(vegaEmbed);\n",
       "    } else {\n",
       "      loadScript(\"vega\")\n",
       "        .then(() => loadScript(\"vega-lite\"))\n",
       "        .then(() => loadScript(\"vega-embed\"))\n",
       "        .catch(showError)\n",
       "        .then(() => displayChart(vegaEmbed));\n",
       "    }\n",
       "  })({\"config\": {\"view\": {\"continuousWidth\": 400, \"continuousHeight\": 300}}, \"data\": {\"url\": \"altair-data-b2fe8fb5616f2f0ec61f01d320bf8001.json\", \"format\": {\"type\": \"json\"}}, \"mark\": \"bar\", \"encoding\": {\"color\": {\"type\": \"nominal\", \"field\": \"TYPE\"}, \"order\": {\"type\": \"nominal\", \"field\": \"TYPE\", \"sort\": \"descending\"}, \"x\": {\"type\": \"quantitative\", \"aggregate\": \"count\", \"field\": \"index\", \"title\": \"cast count\"}, \"y\": {\"type\": \"nominal\", \"axis\": null, \"field\": \"index\", \"sort\": [\"Rogue One\", \"Finding Dory\", \"Captain America: Civil War\", \"The Secret Life of Pets\", \"The Jungle Book\", \"Deadpool\", \"Zootopia\", \"Batman v Superman: Dawn of Justice\", \"Suicide Squad\", \"Sing\", \"Moana\", \"Fantastic Beasts and Where to Find Them\", \"Doctor Strange\", \"Hidden Figures\", \"Jason Bourne\", \"Star Trek Beyond\", \"X-Men: Apocalypse\", \"Trolls\", \"La La Land\", \"Kung Fu Panda 3\", \"Ghostbusters\", \"Central Intelligence\", \"The Legend of Tarzan\", \"Sully\", \"Bad Moms\", \"The Angry Birds Movie\", \"Independence Day: Resurgence\", \"The Conjuring 2\", \"Arrival\", \"Passengers\", \"Sausage Party\", \"The Magnificent Seven\", \"Ride Along 2\", \"Don't Breathe\", \"Miss Peregrine's Home for Peculiar Children\", \"The Accountant\", \"Teenage Mutant Ninja Turtles: Out of the Shadows\", \"The Purge: Election Year\", \"Alice Through the Looking Glass\", \"Pete's Dragon\", \"The Girl on the Train\", \"Boo! A Madea Halloween\", \"Storks\", \"10 Cloverfield Lane\", \"Lights Out\", \"Hacksaw Ridge\", \"Allegiant\", \"Now You See Me 2\", \"Ice Age: Collision Course\", \"The Boss\"]}}, \"title\": \"Female\", \"transform\": [{\"filter\": \"(((datum.TYPE !== 'Unknown') && (datum.GENDER !== 'Unknown')) && (datum.GENDER !== 'null'))\"}], \"$schema\": \"https://vega.github.io/schema/vega-lite/v4.0.2.json\"}, {\"mode\": \"vega-lite\"});\n",
       "</script>"
      ],
      "text/plain": [
       "alt.Chart(...)"
      ]
     },
     "execution_count": 55,
     "metadata": {},
     "output_type": "execute_result"
    }
   ],
   "source": [
    "female = female_actors()\n",
    "female"
   ]
  },
  {
   "cell_type": "code",
   "execution_count": 56,
   "metadata": {},
   "outputs": [],
   "source": [
    "def male_actors():\n",
    "    \"\"\"\n",
    "    returns an altair-defined chart that uses the bar mark for the variables and the color for the TYPE \n",
    "    this function filters the actors to be male\n",
    "    \"\"\"\n",
    "    #add filter transform\n",
    "\n",
    "    encoding = base.transform_filter(\n",
    "        alt.datum.GENDER == 'Male'\n",
    "        ).encode(\n",
    "            y= alt.Y(\n",
    "            'index:N',\n",
    "            sort= movies_order\n",
    "        ),\n",
    "        x=alt.X('count(index):Q',\n",
    "                sort='descending',\n",
    "                title='cast count'),\n",
    "         # add color encoding\n",
    "        color='TYPE', order=alt.Order('TYPE',sort='descending')          \n",
    "    ).mark_bar().properties(title='Male')\n",
    "    \n",
    "    return encoding.mark_bar().properties(title='Male')"
   ]
  },
  {
   "cell_type": "code",
   "execution_count": 57,
   "metadata": {},
   "outputs": [
    {
     "data": {
      "text/html": [
       "\n",
       "<div id=\"altair-viz-07ad97a5ede94d309809ef9b65b02268\"></div>\n",
       "<script type=\"text/javascript\">\n",
       "  (function(spec, embedOpt){\n",
       "    const outputDiv = document.getElementById(\"altair-viz-07ad97a5ede94d309809ef9b65b02268\");\n",
       "    const paths = {\n",
       "      \"vega\": \"https://cdn.jsdelivr.net/npm//vega@5?noext\",\n",
       "      \"vega-lib\": \"https://cdn.jsdelivr.net/npm//vega-lib?noext\",\n",
       "      \"vega-lite\": \"https://cdn.jsdelivr.net/npm//vega-lite@4.0.2?noext\",\n",
       "      \"vega-embed\": \"https://cdn.jsdelivr.net/npm//vega-embed@6?noext\",\n",
       "    };\n",
       "\n",
       "    function loadScript(lib) {\n",
       "      return new Promise(function(resolve, reject) {\n",
       "        var s = document.createElement('script');\n",
       "        s.src = paths[lib];\n",
       "        s.async = true;\n",
       "        s.onload = () => resolve(paths[lib]);\n",
       "        s.onerror = () => reject(`Error loading script: ${paths[lib]}`);\n",
       "        document.getElementsByTagName(\"head\")[0].appendChild(s);\n",
       "      });\n",
       "    }\n",
       "\n",
       "    function showError(err) {\n",
       "      outputDiv.innerHTML = `<div class=\"error\" style=\"color:red;\">${err}</div>`;\n",
       "      throw err;\n",
       "    }\n",
       "\n",
       "    function displayChart(vegaEmbed) {\n",
       "      vegaEmbed(outputDiv, spec, embedOpt)\n",
       "        .catch(err => showError(`Javascript Error: ${err.message}<br>This usually means there's a typo in your chart specification. See the javascript console for the full traceback.`));\n",
       "    }\n",
       "\n",
       "    if(typeof define === \"function\" && define.amd) {\n",
       "      requirejs.config({paths});\n",
       "      require([\"vega-embed\"], displayChart, err => showError(`Error loading script: ${err.message}`));\n",
       "    } else if (typeof vegaEmbed === \"function\") {\n",
       "      displayChart(vegaEmbed);\n",
       "    } else {\n",
       "      loadScript(\"vega\")\n",
       "        .then(() => loadScript(\"vega-lite\"))\n",
       "        .then(() => loadScript(\"vega-embed\"))\n",
       "        .catch(showError)\n",
       "        .then(() => displayChart(vegaEmbed));\n",
       "    }\n",
       "  })({\"config\": {\"view\": {\"continuousWidth\": 400, \"continuousHeight\": 300}}, \"data\": {\"url\": \"altair-data-b2fe8fb5616f2f0ec61f01d320bf8001.json\", \"format\": {\"type\": \"json\"}}, \"mark\": \"bar\", \"encoding\": {\"color\": {\"type\": \"nominal\", \"field\": \"TYPE\"}, \"order\": {\"type\": \"nominal\", \"field\": \"TYPE\", \"sort\": \"descending\"}, \"x\": {\"type\": \"quantitative\", \"aggregate\": \"count\", \"field\": \"index\", \"sort\": \"descending\", \"title\": \"cast count\"}, \"y\": {\"type\": \"nominal\", \"field\": \"index\", \"sort\": [\"Rogue One\", \"Finding Dory\", \"Captain America: Civil War\", \"The Secret Life of Pets\", \"The Jungle Book\", \"Deadpool\", \"Zootopia\", \"Batman v Superman: Dawn of Justice\", \"Suicide Squad\", \"Sing\", \"Moana\", \"Fantastic Beasts and Where to Find Them\", \"Doctor Strange\", \"Hidden Figures\", \"Jason Bourne\", \"Star Trek Beyond\", \"X-Men: Apocalypse\", \"Trolls\", \"La La Land\", \"Kung Fu Panda 3\", \"Ghostbusters\", \"Central Intelligence\", \"The Legend of Tarzan\", \"Sully\", \"Bad Moms\", \"The Angry Birds Movie\", \"Independence Day: Resurgence\", \"The Conjuring 2\", \"Arrival\", \"Passengers\", \"Sausage Party\", \"The Magnificent Seven\", \"Ride Along 2\", \"Don't Breathe\", \"Miss Peregrine's Home for Peculiar Children\", \"The Accountant\", \"Teenage Mutant Ninja Turtles: Out of the Shadows\", \"The Purge: Election Year\", \"Alice Through the Looking Glass\", \"Pete's Dragon\", \"The Girl on the Train\", \"Boo! A Madea Halloween\", \"Storks\", \"10 Cloverfield Lane\", \"Lights Out\", \"Hacksaw Ridge\", \"Allegiant\", \"Now You See Me 2\", \"Ice Age: Collision Course\", \"The Boss\"]}}, \"title\": \"Male\", \"transform\": [{\"filter\": \"(((datum.TYPE !== 'Unknown') && (datum.GENDER !== 'Unknown')) && (datum.GENDER !== 'null'))\"}, {\"filter\": \"(datum.GENDER === 'Male')\"}], \"$schema\": \"https://vega.github.io/schema/vega-lite/v4.0.2.json\"}, {\"mode\": \"vega-lite\"});\n",
       "</script>"
      ],
      "text/plain": [
       "alt.Chart(...)"
      ]
     },
     "execution_count": 57,
     "metadata": {},
     "output_type": "execute_result"
    }
   ],
   "source": [
    "male = male_actors()\n",
    "male"
   ]
  },
  {
   "cell_type": "code",
   "execution_count": 58,
   "metadata": {},
   "outputs": [
    {
     "data": {
      "text/html": [
       "\n",
       "<div id=\"altair-viz-23ace8a98f1e4137bca5194804631795\"></div>\n",
       "<script type=\"text/javascript\">\n",
       "  (function(spec, embedOpt){\n",
       "    const outputDiv = document.getElementById(\"altair-viz-23ace8a98f1e4137bca5194804631795\");\n",
       "    const paths = {\n",
       "      \"vega\": \"https://cdn.jsdelivr.net/npm//vega@5?noext\",\n",
       "      \"vega-lib\": \"https://cdn.jsdelivr.net/npm//vega-lib?noext\",\n",
       "      \"vega-lite\": \"https://cdn.jsdelivr.net/npm//vega-lite@4.0.2?noext\",\n",
       "      \"vega-embed\": \"https://cdn.jsdelivr.net/npm//vega-embed@6?noext\",\n",
       "    };\n",
       "\n",
       "    function loadScript(lib) {\n",
       "      return new Promise(function(resolve, reject) {\n",
       "        var s = document.createElement('script');\n",
       "        s.src = paths[lib];\n",
       "        s.async = true;\n",
       "        s.onload = () => resolve(paths[lib]);\n",
       "        s.onerror = () => reject(`Error loading script: ${paths[lib]}`);\n",
       "        document.getElementsByTagName(\"head\")[0].appendChild(s);\n",
       "      });\n",
       "    }\n",
       "\n",
       "    function showError(err) {\n",
       "      outputDiv.innerHTML = `<div class=\"error\" style=\"color:red;\">${err}</div>`;\n",
       "      throw err;\n",
       "    }\n",
       "\n",
       "    function displayChart(vegaEmbed) {\n",
       "      vegaEmbed(outputDiv, spec, embedOpt)\n",
       "        .catch(err => showError(`Javascript Error: ${err.message}<br>This usually means there's a typo in your chart specification. See the javascript console for the full traceback.`));\n",
       "    }\n",
       "\n",
       "    if(typeof define === \"function\" && define.amd) {\n",
       "      requirejs.config({paths});\n",
       "      require([\"vega-embed\"], displayChart, err => showError(`Error loading script: ${err.message}`));\n",
       "    } else if (typeof vegaEmbed === \"function\") {\n",
       "      displayChart(vegaEmbed);\n",
       "    } else {\n",
       "      loadScript(\"vega\")\n",
       "        .then(() => loadScript(\"vega-lite\"))\n",
       "        .then(() => loadScript(\"vega-embed\"))\n",
       "        .catch(showError)\n",
       "        .then(() => displayChart(vegaEmbed));\n",
       "    }\n",
       "  })({\"config\": {\"view\": {\"continuousWidth\": 400, \"continuousHeight\": 300}}, \"hconcat\": [{\"mark\": \"bar\", \"encoding\": {\"color\": {\"type\": \"nominal\", \"field\": \"TYPE\"}, \"order\": {\"type\": \"nominal\", \"field\": \"TYPE\", \"sort\": \"descending\"}, \"x\": {\"type\": \"quantitative\", \"aggregate\": \"count\", \"field\": \"index\", \"sort\": \"descending\", \"title\": \"cast count\"}, \"y\": {\"type\": \"nominal\", \"field\": \"index\", \"sort\": [\"Rogue One\", \"Finding Dory\", \"Captain America: Civil War\", \"The Secret Life of Pets\", \"The Jungle Book\", \"Deadpool\", \"Zootopia\", \"Batman v Superman: Dawn of Justice\", \"Suicide Squad\", \"Sing\", \"Moana\", \"Fantastic Beasts and Where to Find Them\", \"Doctor Strange\", \"Hidden Figures\", \"Jason Bourne\", \"Star Trek Beyond\", \"X-Men: Apocalypse\", \"Trolls\", \"La La Land\", \"Kung Fu Panda 3\", \"Ghostbusters\", \"Central Intelligence\", \"The Legend of Tarzan\", \"Sully\", \"Bad Moms\", \"The Angry Birds Movie\", \"Independence Day: Resurgence\", \"The Conjuring 2\", \"Arrival\", \"Passengers\", \"Sausage Party\", \"The Magnificent Seven\", \"Ride Along 2\", \"Don't Breathe\", \"Miss Peregrine's Home for Peculiar Children\", \"The Accountant\", \"Teenage Mutant Ninja Turtles: Out of the Shadows\", \"The Purge: Election Year\", \"Alice Through the Looking Glass\", \"Pete's Dragon\", \"The Girl on the Train\", \"Boo! A Madea Halloween\", \"Storks\", \"10 Cloverfield Lane\", \"Lights Out\", \"Hacksaw Ridge\", \"Allegiant\", \"Now You See Me 2\", \"Ice Age: Collision Course\", \"The Boss\"]}}, \"title\": \"Male\", \"transform\": [{\"filter\": \"(((datum.TYPE !== 'Unknown') && (datum.GENDER !== 'Unknown')) && (datum.GENDER !== 'null'))\"}, {\"filter\": \"(datum.GENDER === 'Male')\"}]}, {\"mark\": \"text\", \"encoding\": {\"color\": {\"type\": \"nominal\", \"field\": \"bechdel\"}, \"text\": {\"type\": \"quantitative\", \"field\": \"Rank\"}, \"y\": {\"type\": \"ordinal\", \"axis\": null, \"field\": \"Rank\"}}, \"transform\": [{\"filter\": \"(((datum.TYPE !== 'Unknown') && (datum.GENDER !== 'Unknown')) && (datum.GENDER !== 'null'))\"}], \"width\": 20}, {\"mark\": \"bar\", \"encoding\": {\"color\": {\"type\": \"nominal\", \"field\": \"TYPE\"}, \"order\": {\"type\": \"nominal\", \"field\": \"TYPE\", \"sort\": \"descending\"}, \"x\": {\"type\": \"quantitative\", \"aggregate\": \"count\", \"field\": \"index\", \"title\": \"cast count\"}, \"y\": {\"type\": \"nominal\", \"axis\": null, \"field\": \"index\", \"sort\": [\"Rogue One\", \"Finding Dory\", \"Captain America: Civil War\", \"The Secret Life of Pets\", \"The Jungle Book\", \"Deadpool\", \"Zootopia\", \"Batman v Superman: Dawn of Justice\", \"Suicide Squad\", \"Sing\", \"Moana\", \"Fantastic Beasts and Where to Find Them\", \"Doctor Strange\", \"Hidden Figures\", \"Jason Bourne\", \"Star Trek Beyond\", \"X-Men: Apocalypse\", \"Trolls\", \"La La Land\", \"Kung Fu Panda 3\", \"Ghostbusters\", \"Central Intelligence\", \"The Legend of Tarzan\", \"Sully\", \"Bad Moms\", \"The Angry Birds Movie\", \"Independence Day: Resurgence\", \"The Conjuring 2\", \"Arrival\", \"Passengers\", \"Sausage Party\", \"The Magnificent Seven\", \"Ride Along 2\", \"Don't Breathe\", \"Miss Peregrine's Home for Peculiar Children\", \"The Accountant\", \"Teenage Mutant Ninja Turtles: Out of the Shadows\", \"The Purge: Election Year\", \"Alice Through the Looking Glass\", \"Pete's Dragon\", \"The Girl on the Train\", \"Boo! A Madea Halloween\", \"Storks\", \"10 Cloverfield Lane\", \"Lights Out\", \"Hacksaw Ridge\", \"Allegiant\", \"Now You See Me 2\", \"Ice Age: Collision Course\", \"The Boss\"]}}, \"title\": \"Female\", \"transform\": [{\"filter\": \"(((datum.TYPE !== 'Unknown') && (datum.GENDER !== 'Unknown')) && (datum.GENDER !== 'null'))\"}]}], \"data\": {\"url\": \"altair-data-b2fe8fb5616f2f0ec61f01d320bf8001.json\", \"format\": {\"type\": \"json\"}}, \"$schema\": \"https://vega.github.io/schema/vega-lite/v4.0.2.json\"}, {\"mode\": \"vega-lite\"});\n",
       "</script>"
      ],
      "text/plain": [
       "alt.HConcatChart(...)"
      ]
     },
     "execution_count": 58,
     "metadata": {},
     "output_type": "execute_result"
    }
   ],
   "source": [
    "middle = base.encode(\n",
    "    y=alt.Y('Rank:O', axis=None),\n",
    "    text=alt.Text('Rank:Q'),\n",
    "    color=alt.Color('bechdel:N')\n",
    ").mark_text().properties(width=20)\n",
    "\n",
    "# merge together the three charts, male, middle, female\n",
    "male | middle | female"
   ]
  },
  {
   "cell_type": "code",
   "execution_count": 59,
   "metadata": {},
   "outputs": [],
   "source": [
    "def alternative_encoding_one():\n",
    "    \"\"\"\n",
    "    returns call to altair function for the new visualization\n",
    "    \"\"\"\n",
    "    plot = base.mark_circle(\n",
    "       opacity=0.8,\n",
    "       stroke='black',\n",
    "       strokeWidth=1\n",
    "    ).encode(\n",
    "        alt.X('TYPE:O'),\n",
    "        alt.Y('index:N',\n",
    "              sort= movies_order),\n",
    "        size=alt.Size('count(index):Q',\n",
    "        scale=alt.Scale(range=[0,4500]),\n",
    "        legend=alt.Legend(title='Count of actors', symbolFillColor='white')),\n",
    "        color=alt.Color('GENDER')\n",
    "        \n",
    "    ).properties(\n",
    "        width=350,\n",
    "        height=880\n",
    "    )\n",
    "    return plot"
   ]
  },
  {
   "cell_type": "code",
   "execution_count": 60,
   "metadata": {},
   "outputs": [
    {
     "data": {
      "text/html": [
       "\n",
       "<div id=\"altair-viz-76e26ad59ba54ff2b25c78c037de54bf\"></div>\n",
       "<script type=\"text/javascript\">\n",
       "  (function(spec, embedOpt){\n",
       "    const outputDiv = document.getElementById(\"altair-viz-76e26ad59ba54ff2b25c78c037de54bf\");\n",
       "    const paths = {\n",
       "      \"vega\": \"https://cdn.jsdelivr.net/npm//vega@5?noext\",\n",
       "      \"vega-lib\": \"https://cdn.jsdelivr.net/npm//vega-lib?noext\",\n",
       "      \"vega-lite\": \"https://cdn.jsdelivr.net/npm//vega-lite@4.0.2?noext\",\n",
       "      \"vega-embed\": \"https://cdn.jsdelivr.net/npm//vega-embed@6?noext\",\n",
       "    };\n",
       "\n",
       "    function loadScript(lib) {\n",
       "      return new Promise(function(resolve, reject) {\n",
       "        var s = document.createElement('script');\n",
       "        s.src = paths[lib];\n",
       "        s.async = true;\n",
       "        s.onload = () => resolve(paths[lib]);\n",
       "        s.onerror = () => reject(`Error loading script: ${paths[lib]}`);\n",
       "        document.getElementsByTagName(\"head\")[0].appendChild(s);\n",
       "      });\n",
       "    }\n",
       "\n",
       "    function showError(err) {\n",
       "      outputDiv.innerHTML = `<div class=\"error\" style=\"color:red;\">${err}</div>`;\n",
       "      throw err;\n",
       "    }\n",
       "\n",
       "    function displayChart(vegaEmbed) {\n",
       "      vegaEmbed(outputDiv, spec, embedOpt)\n",
       "        .catch(err => showError(`Javascript Error: ${err.message}<br>This usually means there's a typo in your chart specification. See the javascript console for the full traceback.`));\n",
       "    }\n",
       "\n",
       "    if(typeof define === \"function\" && define.amd) {\n",
       "      requirejs.config({paths});\n",
       "      require([\"vega-embed\"], displayChart, err => showError(`Error loading script: ${err.message}`));\n",
       "    } else if (typeof vegaEmbed === \"function\") {\n",
       "      displayChart(vegaEmbed);\n",
       "    } else {\n",
       "      loadScript(\"vega\")\n",
       "        .then(() => loadScript(\"vega-lite\"))\n",
       "        .then(() => loadScript(\"vega-embed\"))\n",
       "        .catch(showError)\n",
       "        .then(() => displayChart(vegaEmbed));\n",
       "    }\n",
       "  })({\"config\": {\"view\": {\"continuousWidth\": 400, \"continuousHeight\": 300}}, \"hconcat\": [{\"mark\": \"text\", \"encoding\": {\"color\": {\"type\": \"nominal\", \"field\": \"bechdel\"}, \"text\": {\"type\": \"quantitative\", \"field\": \"Rank\"}, \"y\": {\"type\": \"ordinal\", \"axis\": null, \"field\": \"Rank\"}}, \"transform\": [{\"filter\": \"(((datum.TYPE !== 'Unknown') && (datum.GENDER !== 'Unknown')) && (datum.GENDER !== 'null'))\"}], \"width\": 20}, {\"mark\": {\"type\": \"circle\", \"opacity\": 0.8, \"stroke\": \"black\", \"strokeWidth\": 1}, \"encoding\": {\"color\": {\"type\": \"nominal\", \"field\": \"GENDER\"}, \"size\": {\"type\": \"quantitative\", \"aggregate\": \"count\", \"field\": \"index\", \"legend\": {\"symbolFillColor\": \"white\", \"title\": \"Count of actors\"}, \"scale\": {\"range\": [0, 4500]}}, \"x\": {\"type\": \"ordinal\", \"field\": \"TYPE\"}, \"y\": {\"type\": \"nominal\", \"field\": \"index\", \"sort\": [\"Rogue One\", \"Finding Dory\", \"Captain America: Civil War\", \"The Secret Life of Pets\", \"The Jungle Book\", \"Deadpool\", \"Zootopia\", \"Batman v Superman: Dawn of Justice\", \"Suicide Squad\", \"Sing\", \"Moana\", \"Fantastic Beasts and Where to Find Them\", \"Doctor Strange\", \"Hidden Figures\", \"Jason Bourne\", \"Star Trek Beyond\", \"X-Men: Apocalypse\", \"Trolls\", \"La La Land\", \"Kung Fu Panda 3\", \"Ghostbusters\", \"Central Intelligence\", \"The Legend of Tarzan\", \"Sully\", \"Bad Moms\", \"The Angry Birds Movie\", \"Independence Day: Resurgence\", \"The Conjuring 2\", \"Arrival\", \"Passengers\", \"Sausage Party\", \"The Magnificent Seven\", \"Ride Along 2\", \"Don't Breathe\", \"Miss Peregrine's Home for Peculiar Children\", \"The Accountant\", \"Teenage Mutant Ninja Turtles: Out of the Shadows\", \"The Purge: Election Year\", \"Alice Through the Looking Glass\", \"Pete's Dragon\", \"The Girl on the Train\", \"Boo! A Madea Halloween\", \"Storks\", \"10 Cloverfield Lane\", \"Lights Out\", \"Hacksaw Ridge\", \"Allegiant\", \"Now You See Me 2\", \"Ice Age: Collision Course\", \"The Boss\"]}}, \"height\": 880, \"transform\": [{\"filter\": \"(((datum.TYPE !== 'Unknown') && (datum.GENDER !== 'Unknown')) && (datum.GENDER !== 'null'))\"}], \"width\": 350}], \"data\": {\"url\": \"altair-data-b2fe8fb5616f2f0ec61f01d320bf8001.json\", \"format\": {\"type\": \"json\"}}, \"$schema\": \"https://vega.github.io/schema/vega-lite/v4.0.2.json\"}, {\"mode\": \"vega-lite\"});\n",
       "</script>"
      ],
      "text/plain": [
       "alt.HConcatChart(...)"
      ]
     },
     "execution_count": 60,
     "metadata": {},
     "output_type": "execute_result"
    }
   ],
   "source": [
    "al_enc_one = alternative_encoding_one()\n",
    "middle | al_enc_one"
   ]
  },
  {
   "cell_type": "code",
   "execution_count": 61,
   "metadata": {},
   "outputs": [],
   "source": [
    "def female_actors_1():\n",
    "    \"\"\"\n",
    "    returns call to altair function for the new visualization\n",
    "    \"\"\"\n",
    "    # add filter transform\n",
    "    plot = base.mark_rect().transform_filter(\n",
    "    alt.datum.GENDER == 'Male').encode(\n",
    "        alt.X('TYPE:N'),\n",
    "        alt.Y('index:N',\n",
    "              sort= movies_order),\n",
    "        # add text and color\n",
    "        color=alt.Color('bechdel:N')\n",
    "    )\n",
    "    # add filter transform\n",
    "    text = base.transform_filter(\n",
    "        alt.datum.GENDER == 'Female').mark_text(align='center',baseline='middle').encode(\n",
    "        x='TYPE:O',\n",
    "        y= alt.Y(\n",
    "            'index:O',\n",
    "            sort= movies_order,\n",
    "             axis=None\n",
    "        ),\n",
    "        text='count(index)'\n",
    "    )\n",
    "    return plot + text"
   ]
  },
  {
   "cell_type": "code",
   "execution_count": 62,
   "metadata": {},
   "outputs": [
    {
     "data": {
      "text/html": [
       "\n",
       "<div id=\"altair-viz-46cb901060cf45d080598bb6ab28ea2e\"></div>\n",
       "<script type=\"text/javascript\">\n",
       "  (function(spec, embedOpt){\n",
       "    const outputDiv = document.getElementById(\"altair-viz-46cb901060cf45d080598bb6ab28ea2e\");\n",
       "    const paths = {\n",
       "      \"vega\": \"https://cdn.jsdelivr.net/npm//vega@5?noext\",\n",
       "      \"vega-lib\": \"https://cdn.jsdelivr.net/npm//vega-lib?noext\",\n",
       "      \"vega-lite\": \"https://cdn.jsdelivr.net/npm//vega-lite@4.0.2?noext\",\n",
       "      \"vega-embed\": \"https://cdn.jsdelivr.net/npm//vega-embed@6?noext\",\n",
       "    };\n",
       "\n",
       "    function loadScript(lib) {\n",
       "      return new Promise(function(resolve, reject) {\n",
       "        var s = document.createElement('script');\n",
       "        s.src = paths[lib];\n",
       "        s.async = true;\n",
       "        s.onload = () => resolve(paths[lib]);\n",
       "        s.onerror = () => reject(`Error loading script: ${paths[lib]}`);\n",
       "        document.getElementsByTagName(\"head\")[0].appendChild(s);\n",
       "      });\n",
       "    }\n",
       "\n",
       "    function showError(err) {\n",
       "      outputDiv.innerHTML = `<div class=\"error\" style=\"color:red;\">${err}</div>`;\n",
       "      throw err;\n",
       "    }\n",
       "\n",
       "    function displayChart(vegaEmbed) {\n",
       "      vegaEmbed(outputDiv, spec, embedOpt)\n",
       "        .catch(err => showError(`Javascript Error: ${err.message}<br>This usually means there's a typo in your chart specification. See the javascript console for the full traceback.`));\n",
       "    }\n",
       "\n",
       "    if(typeof define === \"function\" && define.amd) {\n",
       "      requirejs.config({paths});\n",
       "      require([\"vega-embed\"], displayChart, err => showError(`Error loading script: ${err.message}`));\n",
       "    } else if (typeof vegaEmbed === \"function\") {\n",
       "      displayChart(vegaEmbed);\n",
       "    } else {\n",
       "      loadScript(\"vega\")\n",
       "        .then(() => loadScript(\"vega-lite\"))\n",
       "        .then(() => loadScript(\"vega-embed\"))\n",
       "        .catch(showError)\n",
       "        .then(() => displayChart(vegaEmbed));\n",
       "    }\n",
       "  })({\"config\": {\"view\": {\"continuousWidth\": 400, \"continuousHeight\": 300}}, \"layer\": [{\"mark\": \"rect\", \"encoding\": {\"color\": {\"type\": \"nominal\", \"field\": \"bechdel\"}, \"x\": {\"type\": \"nominal\", \"field\": \"TYPE\"}, \"y\": {\"type\": \"nominal\", \"field\": \"index\", \"sort\": [\"Rogue One\", \"Finding Dory\", \"Captain America: Civil War\", \"The Secret Life of Pets\", \"The Jungle Book\", \"Deadpool\", \"Zootopia\", \"Batman v Superman: Dawn of Justice\", \"Suicide Squad\", \"Sing\", \"Moana\", \"Fantastic Beasts and Where to Find Them\", \"Doctor Strange\", \"Hidden Figures\", \"Jason Bourne\", \"Star Trek Beyond\", \"X-Men: Apocalypse\", \"Trolls\", \"La La Land\", \"Kung Fu Panda 3\", \"Ghostbusters\", \"Central Intelligence\", \"The Legend of Tarzan\", \"Sully\", \"Bad Moms\", \"The Angry Birds Movie\", \"Independence Day: Resurgence\", \"The Conjuring 2\", \"Arrival\", \"Passengers\", \"Sausage Party\", \"The Magnificent Seven\", \"Ride Along 2\", \"Don't Breathe\", \"Miss Peregrine's Home for Peculiar Children\", \"The Accountant\", \"Teenage Mutant Ninja Turtles: Out of the Shadows\", \"The Purge: Election Year\", \"Alice Through the Looking Glass\", \"Pete's Dragon\", \"The Girl on the Train\", \"Boo! A Madea Halloween\", \"Storks\", \"10 Cloverfield Lane\", \"Lights Out\", \"Hacksaw Ridge\", \"Allegiant\", \"Now You See Me 2\", \"Ice Age: Collision Course\", \"The Boss\"]}}, \"transform\": [{\"filter\": \"(((datum.TYPE !== 'Unknown') && (datum.GENDER !== 'Unknown')) && (datum.GENDER !== 'null'))\"}, {\"filter\": \"(datum.GENDER === 'Male')\"}]}, {\"mark\": {\"type\": \"text\", \"align\": \"center\", \"baseline\": \"middle\"}, \"encoding\": {\"text\": {\"type\": \"nominal\", \"aggregate\": \"count\", \"field\": \"index\"}, \"x\": {\"type\": \"ordinal\", \"field\": \"TYPE\"}, \"y\": {\"type\": \"ordinal\", \"axis\": null, \"field\": \"index\", \"sort\": [\"Rogue One\", \"Finding Dory\", \"Captain America: Civil War\", \"The Secret Life of Pets\", \"The Jungle Book\", \"Deadpool\", \"Zootopia\", \"Batman v Superman: Dawn of Justice\", \"Suicide Squad\", \"Sing\", \"Moana\", \"Fantastic Beasts and Where to Find Them\", \"Doctor Strange\", \"Hidden Figures\", \"Jason Bourne\", \"Star Trek Beyond\", \"X-Men: Apocalypse\", \"Trolls\", \"La La Land\", \"Kung Fu Panda 3\", \"Ghostbusters\", \"Central Intelligence\", \"The Legend of Tarzan\", \"Sully\", \"Bad Moms\", \"The Angry Birds Movie\", \"Independence Day: Resurgence\", \"The Conjuring 2\", \"Arrival\", \"Passengers\", \"Sausage Party\", \"The Magnificent Seven\", \"Ride Along 2\", \"Don't Breathe\", \"Miss Peregrine's Home for Peculiar Children\", \"The Accountant\", \"Teenage Mutant Ninja Turtles: Out of the Shadows\", \"The Purge: Election Year\", \"Alice Through the Looking Glass\", \"Pete's Dragon\", \"The Girl on the Train\", \"Boo! A Madea Halloween\", \"Storks\", \"10 Cloverfield Lane\", \"Lights Out\", \"Hacksaw Ridge\", \"Allegiant\", \"Now You See Me 2\", \"Ice Age: Collision Course\", \"The Boss\"]}}, \"transform\": [{\"filter\": \"(((datum.TYPE !== 'Unknown') && (datum.GENDER !== 'Unknown')) && (datum.GENDER !== 'null'))\"}, {\"filter\": \"(datum.GENDER === 'Female')\"}]}], \"data\": {\"url\": \"altair-data-b2fe8fb5616f2f0ec61f01d320bf8001.json\", \"format\": {\"type\": \"json\"}}, \"$schema\": \"https://vega.github.io/schema/vega-lite/v4.0.2.json\"}, {\"mode\": \"vega-lite\"});\n",
       "</script>"
      ],
      "text/plain": [
       "alt.LayerChart(...)"
      ]
     },
     "execution_count": 62,
     "metadata": {},
     "output_type": "execute_result"
    }
   ],
   "source": [
    "f_a_1 = female_actors_1()\n",
    "f_a_1"
   ]
  },
  {
   "cell_type": "code",
   "execution_count": 63,
   "metadata": {},
   "outputs": [],
   "source": [
    "def male_actors_1():\n",
    "    \"\"\"\n",
    "    return call to altair function for the new visualization\n",
    "    \"\"\"\n",
    "    # add filter transform\n",
    "    plot = base.mark_rect().transform_filter(\n",
    "    alt.datum.GENDER == 'Male').encode(\n",
    "        alt.X('TYPE:N', title = 'TYPE'),\n",
    "        alt.Y('index:N',\n",
    "              sort= movies_order,\n",
    "              axis = None\n",
    "             ),\n",
    "        color=alt.Color('bechdel:N')\n",
    "        \n",
    "    )\n",
    "    # add filter transform\n",
    "    text = base.transform_filter(\n",
    "        alt.datum.GENDER == 'Male').mark_text(align='center',baseline='middle').encode(\n",
    "        x='TYPE:O',\n",
    "        y= alt.Y('index:O',\n",
    "            sort= movies_order,\n",
    "            axis = None\n",
    "        ),\n",
    "        text='count(index)'\n",
    "        \n",
    "    )\n",
    "    return plot + text"
   ]
  },
  {
   "cell_type": "code",
   "execution_count": 64,
   "metadata": {},
   "outputs": [
    {
     "data": {
      "text/html": [
       "\n",
       "<div id=\"altair-viz-248674545df5496aa5ce0c744bd5f0b7\"></div>\n",
       "<script type=\"text/javascript\">\n",
       "  (function(spec, embedOpt){\n",
       "    const outputDiv = document.getElementById(\"altair-viz-248674545df5496aa5ce0c744bd5f0b7\");\n",
       "    const paths = {\n",
       "      \"vega\": \"https://cdn.jsdelivr.net/npm//vega@5?noext\",\n",
       "      \"vega-lib\": \"https://cdn.jsdelivr.net/npm//vega-lib?noext\",\n",
       "      \"vega-lite\": \"https://cdn.jsdelivr.net/npm//vega-lite@4.0.2?noext\",\n",
       "      \"vega-embed\": \"https://cdn.jsdelivr.net/npm//vega-embed@6?noext\",\n",
       "    };\n",
       "\n",
       "    function loadScript(lib) {\n",
       "      return new Promise(function(resolve, reject) {\n",
       "        var s = document.createElement('script');\n",
       "        s.src = paths[lib];\n",
       "        s.async = true;\n",
       "        s.onload = () => resolve(paths[lib]);\n",
       "        s.onerror = () => reject(`Error loading script: ${paths[lib]}`);\n",
       "        document.getElementsByTagName(\"head\")[0].appendChild(s);\n",
       "      });\n",
       "    }\n",
       "\n",
       "    function showError(err) {\n",
       "      outputDiv.innerHTML = `<div class=\"error\" style=\"color:red;\">${err}</div>`;\n",
       "      throw err;\n",
       "    }\n",
       "\n",
       "    function displayChart(vegaEmbed) {\n",
       "      vegaEmbed(outputDiv, spec, embedOpt)\n",
       "        .catch(err => showError(`Javascript Error: ${err.message}<br>This usually means there's a typo in your chart specification. See the javascript console for the full traceback.`));\n",
       "    }\n",
       "\n",
       "    if(typeof define === \"function\" && define.amd) {\n",
       "      requirejs.config({paths});\n",
       "      require([\"vega-embed\"], displayChart, err => showError(`Error loading script: ${err.message}`));\n",
       "    } else if (typeof vegaEmbed === \"function\") {\n",
       "      displayChart(vegaEmbed);\n",
       "    } else {\n",
       "      loadScript(\"vega\")\n",
       "        .then(() => loadScript(\"vega-lite\"))\n",
       "        .then(() => loadScript(\"vega-embed\"))\n",
       "        .catch(showError)\n",
       "        .then(() => displayChart(vegaEmbed));\n",
       "    }\n",
       "  })({\"config\": {\"view\": {\"continuousWidth\": 400, \"continuousHeight\": 300}}, \"layer\": [{\"mark\": \"rect\", \"encoding\": {\"color\": {\"type\": \"nominal\", \"field\": \"bechdel\"}, \"x\": {\"type\": \"nominal\", \"field\": \"TYPE\", \"title\": \"TYPE\"}, \"y\": {\"type\": \"nominal\", \"axis\": null, \"field\": \"index\", \"sort\": [\"Rogue One\", \"Finding Dory\", \"Captain America: Civil War\", \"The Secret Life of Pets\", \"The Jungle Book\", \"Deadpool\", \"Zootopia\", \"Batman v Superman: Dawn of Justice\", \"Suicide Squad\", \"Sing\", \"Moana\", \"Fantastic Beasts and Where to Find Them\", \"Doctor Strange\", \"Hidden Figures\", \"Jason Bourne\", \"Star Trek Beyond\", \"X-Men: Apocalypse\", \"Trolls\", \"La La Land\", \"Kung Fu Panda 3\", \"Ghostbusters\", \"Central Intelligence\", \"The Legend of Tarzan\", \"Sully\", \"Bad Moms\", \"The Angry Birds Movie\", \"Independence Day: Resurgence\", \"The Conjuring 2\", \"Arrival\", \"Passengers\", \"Sausage Party\", \"The Magnificent Seven\", \"Ride Along 2\", \"Don't Breathe\", \"Miss Peregrine's Home for Peculiar Children\", \"The Accountant\", \"Teenage Mutant Ninja Turtles: Out of the Shadows\", \"The Purge: Election Year\", \"Alice Through the Looking Glass\", \"Pete's Dragon\", \"The Girl on the Train\", \"Boo! A Madea Halloween\", \"Storks\", \"10 Cloverfield Lane\", \"Lights Out\", \"Hacksaw Ridge\", \"Allegiant\", \"Now You See Me 2\", \"Ice Age: Collision Course\", \"The Boss\"]}}, \"transform\": [{\"filter\": \"(((datum.TYPE !== 'Unknown') && (datum.GENDER !== 'Unknown')) && (datum.GENDER !== 'null'))\"}, {\"filter\": \"(datum.GENDER === 'Male')\"}]}, {\"mark\": {\"type\": \"text\", \"align\": \"center\", \"baseline\": \"middle\"}, \"encoding\": {\"text\": {\"type\": \"nominal\", \"aggregate\": \"count\", \"field\": \"index\"}, \"x\": {\"type\": \"ordinal\", \"field\": \"TYPE\"}, \"y\": {\"type\": \"ordinal\", \"axis\": null, \"field\": \"index\", \"sort\": [\"Rogue One\", \"Finding Dory\", \"Captain America: Civil War\", \"The Secret Life of Pets\", \"The Jungle Book\", \"Deadpool\", \"Zootopia\", \"Batman v Superman: Dawn of Justice\", \"Suicide Squad\", \"Sing\", \"Moana\", \"Fantastic Beasts and Where to Find Them\", \"Doctor Strange\", \"Hidden Figures\", \"Jason Bourne\", \"Star Trek Beyond\", \"X-Men: Apocalypse\", \"Trolls\", \"La La Land\", \"Kung Fu Panda 3\", \"Ghostbusters\", \"Central Intelligence\", \"The Legend of Tarzan\", \"Sully\", \"Bad Moms\", \"The Angry Birds Movie\", \"Independence Day: Resurgence\", \"The Conjuring 2\", \"Arrival\", \"Passengers\", \"Sausage Party\", \"The Magnificent Seven\", \"Ride Along 2\", \"Don't Breathe\", \"Miss Peregrine's Home for Peculiar Children\", \"The Accountant\", \"Teenage Mutant Ninja Turtles: Out of the Shadows\", \"The Purge: Election Year\", \"Alice Through the Looking Glass\", \"Pete's Dragon\", \"The Girl on the Train\", \"Boo! A Madea Halloween\", \"Storks\", \"10 Cloverfield Lane\", \"Lights Out\", \"Hacksaw Ridge\", \"Allegiant\", \"Now You See Me 2\", \"Ice Age: Collision Course\", \"The Boss\"]}}, \"transform\": [{\"filter\": \"(((datum.TYPE !== 'Unknown') && (datum.GENDER !== 'Unknown')) && (datum.GENDER !== 'null'))\"}, {\"filter\": \"(datum.GENDER === 'Male')\"}]}], \"data\": {\"url\": \"altair-data-b2fe8fb5616f2f0ec61f01d320bf8001.json\", \"format\": {\"type\": \"json\"}}, \"$schema\": \"https://vega.github.io/schema/vega-lite/v4.0.2.json\"}, {\"mode\": \"vega-lite\"});\n",
       "</script>"
      ],
      "text/plain": [
       "alt.LayerChart(...)"
      ]
     },
     "execution_count": 64,
     "metadata": {},
     "output_type": "execute_result"
    }
   ],
   "source": [
    "m_a_1 = male_actors_1()\n",
    "m_a_1"
   ]
  },
  {
   "cell_type": "code",
   "execution_count": 65,
   "metadata": {},
   "outputs": [
    {
     "data": {
      "text/html": [
       "\n",
       "<div id=\"altair-viz-f0b2a76ebabc41dfb37e05f230a705a5\"></div>\n",
       "<script type=\"text/javascript\">\n",
       "  (function(spec, embedOpt){\n",
       "    const outputDiv = document.getElementById(\"altair-viz-f0b2a76ebabc41dfb37e05f230a705a5\");\n",
       "    const paths = {\n",
       "      \"vega\": \"https://cdn.jsdelivr.net/npm//vega@5?noext\",\n",
       "      \"vega-lib\": \"https://cdn.jsdelivr.net/npm//vega-lib?noext\",\n",
       "      \"vega-lite\": \"https://cdn.jsdelivr.net/npm//vega-lite@4.0.2?noext\",\n",
       "      \"vega-embed\": \"https://cdn.jsdelivr.net/npm//vega-embed@6?noext\",\n",
       "    };\n",
       "\n",
       "    function loadScript(lib) {\n",
       "      return new Promise(function(resolve, reject) {\n",
       "        var s = document.createElement('script');\n",
       "        s.src = paths[lib];\n",
       "        s.async = true;\n",
       "        s.onload = () => resolve(paths[lib]);\n",
       "        s.onerror = () => reject(`Error loading script: ${paths[lib]}`);\n",
       "        document.getElementsByTagName(\"head\")[0].appendChild(s);\n",
       "      });\n",
       "    }\n",
       "\n",
       "    function showError(err) {\n",
       "      outputDiv.innerHTML = `<div class=\"error\" style=\"color:red;\">${err}</div>`;\n",
       "      throw err;\n",
       "    }\n",
       "\n",
       "    function displayChart(vegaEmbed) {\n",
       "      vegaEmbed(outputDiv, spec, embedOpt)\n",
       "        .catch(err => showError(`Javascript Error: ${err.message}<br>This usually means there's a typo in your chart specification. See the javascript console for the full traceback.`));\n",
       "    }\n",
       "\n",
       "    if(typeof define === \"function\" && define.amd) {\n",
       "      requirejs.config({paths});\n",
       "      require([\"vega-embed\"], displayChart, err => showError(`Error loading script: ${err.message}`));\n",
       "    } else if (typeof vegaEmbed === \"function\") {\n",
       "      displayChart(vegaEmbed);\n",
       "    } else {\n",
       "      loadScript(\"vega\")\n",
       "        .then(() => loadScript(\"vega-lite\"))\n",
       "        .then(() => loadScript(\"vega-embed\"))\n",
       "        .catch(showError)\n",
       "        .then(() => displayChart(vegaEmbed));\n",
       "    }\n",
       "  })({\"config\": {\"view\": {\"continuousWidth\": 400, \"continuousHeight\": 300}}, \"hconcat\": [{\"layer\": [{\"mark\": \"rect\", \"encoding\": {\"color\": {\"type\": \"nominal\", \"field\": \"bechdel\"}, \"x\": {\"type\": \"nominal\", \"field\": \"TYPE\"}, \"y\": {\"type\": \"nominal\", \"field\": \"index\", \"sort\": [\"Rogue One\", \"Finding Dory\", \"Captain America: Civil War\", \"The Secret Life of Pets\", \"The Jungle Book\", \"Deadpool\", \"Zootopia\", \"Batman v Superman: Dawn of Justice\", \"Suicide Squad\", \"Sing\", \"Moana\", \"Fantastic Beasts and Where to Find Them\", \"Doctor Strange\", \"Hidden Figures\", \"Jason Bourne\", \"Star Trek Beyond\", \"X-Men: Apocalypse\", \"Trolls\", \"La La Land\", \"Kung Fu Panda 3\", \"Ghostbusters\", \"Central Intelligence\", \"The Legend of Tarzan\", \"Sully\", \"Bad Moms\", \"The Angry Birds Movie\", \"Independence Day: Resurgence\", \"The Conjuring 2\", \"Arrival\", \"Passengers\", \"Sausage Party\", \"The Magnificent Seven\", \"Ride Along 2\", \"Don't Breathe\", \"Miss Peregrine's Home for Peculiar Children\", \"The Accountant\", \"Teenage Mutant Ninja Turtles: Out of the Shadows\", \"The Purge: Election Year\", \"Alice Through the Looking Glass\", \"Pete's Dragon\", \"The Girl on the Train\", \"Boo! A Madea Halloween\", \"Storks\", \"10 Cloverfield Lane\", \"Lights Out\", \"Hacksaw Ridge\", \"Allegiant\", \"Now You See Me 2\", \"Ice Age: Collision Course\", \"The Boss\"]}}, \"transform\": [{\"filter\": \"(((datum.TYPE !== 'Unknown') && (datum.GENDER !== 'Unknown')) && (datum.GENDER !== 'null'))\"}, {\"filter\": \"(datum.GENDER === 'Male')\"}]}, {\"mark\": {\"type\": \"text\", \"align\": \"center\", \"baseline\": \"middle\"}, \"encoding\": {\"text\": {\"type\": \"nominal\", \"aggregate\": \"count\", \"field\": \"index\"}, \"x\": {\"type\": \"ordinal\", \"field\": \"TYPE\"}, \"y\": {\"type\": \"ordinal\", \"axis\": null, \"field\": \"index\", \"sort\": [\"Rogue One\", \"Finding Dory\", \"Captain America: Civil War\", \"The Secret Life of Pets\", \"The Jungle Book\", \"Deadpool\", \"Zootopia\", \"Batman v Superman: Dawn of Justice\", \"Suicide Squad\", \"Sing\", \"Moana\", \"Fantastic Beasts and Where to Find Them\", \"Doctor Strange\", \"Hidden Figures\", \"Jason Bourne\", \"Star Trek Beyond\", \"X-Men: Apocalypse\", \"Trolls\", \"La La Land\", \"Kung Fu Panda 3\", \"Ghostbusters\", \"Central Intelligence\", \"The Legend of Tarzan\", \"Sully\", \"Bad Moms\", \"The Angry Birds Movie\", \"Independence Day: Resurgence\", \"The Conjuring 2\", \"Arrival\", \"Passengers\", \"Sausage Party\", \"The Magnificent Seven\", \"Ride Along 2\", \"Don't Breathe\", \"Miss Peregrine's Home for Peculiar Children\", \"The Accountant\", \"Teenage Mutant Ninja Turtles: Out of the Shadows\", \"The Purge: Election Year\", \"Alice Through the Looking Glass\", \"Pete's Dragon\", \"The Girl on the Train\", \"Boo! A Madea Halloween\", \"Storks\", \"10 Cloverfield Lane\", \"Lights Out\", \"Hacksaw Ridge\", \"Allegiant\", \"Now You See Me 2\", \"Ice Age: Collision Course\", \"The Boss\"]}}, \"transform\": [{\"filter\": \"(((datum.TYPE !== 'Unknown') && (datum.GENDER !== 'Unknown')) && (datum.GENDER !== 'null'))\"}, {\"filter\": \"(datum.GENDER === 'Female')\"}]}]}, {\"mark\": \"text\", \"encoding\": {\"color\": {\"type\": \"nominal\", \"field\": \"bechdel\"}, \"text\": {\"type\": \"quantitative\", \"field\": \"Rank\"}, \"y\": {\"type\": \"ordinal\", \"axis\": null, \"field\": \"Rank\"}}, \"transform\": [{\"filter\": \"(((datum.TYPE !== 'Unknown') && (datum.GENDER !== 'Unknown')) && (datum.GENDER !== 'null'))\"}], \"width\": 20}, {\"layer\": [{\"mark\": \"rect\", \"encoding\": {\"color\": {\"type\": \"nominal\", \"field\": \"bechdel\"}, \"x\": {\"type\": \"nominal\", \"field\": \"TYPE\", \"title\": \"TYPE\"}, \"y\": {\"type\": \"nominal\", \"axis\": null, \"field\": \"index\", \"sort\": [\"Rogue One\", \"Finding Dory\", \"Captain America: Civil War\", \"The Secret Life of Pets\", \"The Jungle Book\", \"Deadpool\", \"Zootopia\", \"Batman v Superman: Dawn of Justice\", \"Suicide Squad\", \"Sing\", \"Moana\", \"Fantastic Beasts and Where to Find Them\", \"Doctor Strange\", \"Hidden Figures\", \"Jason Bourne\", \"Star Trek Beyond\", \"X-Men: Apocalypse\", \"Trolls\", \"La La Land\", \"Kung Fu Panda 3\", \"Ghostbusters\", \"Central Intelligence\", \"The Legend of Tarzan\", \"Sully\", \"Bad Moms\", \"The Angry Birds Movie\", \"Independence Day: Resurgence\", \"The Conjuring 2\", \"Arrival\", \"Passengers\", \"Sausage Party\", \"The Magnificent Seven\", \"Ride Along 2\", \"Don't Breathe\", \"Miss Peregrine's Home for Peculiar Children\", \"The Accountant\", \"Teenage Mutant Ninja Turtles: Out of the Shadows\", \"The Purge: Election Year\", \"Alice Through the Looking Glass\", \"Pete's Dragon\", \"The Girl on the Train\", \"Boo! A Madea Halloween\", \"Storks\", \"10 Cloverfield Lane\", \"Lights Out\", \"Hacksaw Ridge\", \"Allegiant\", \"Now You See Me 2\", \"Ice Age: Collision Course\", \"The Boss\"]}}, \"transform\": [{\"filter\": \"(((datum.TYPE !== 'Unknown') && (datum.GENDER !== 'Unknown')) && (datum.GENDER !== 'null'))\"}, {\"filter\": \"(datum.GENDER === 'Male')\"}]}, {\"mark\": {\"type\": \"text\", \"align\": \"center\", \"baseline\": \"middle\"}, \"encoding\": {\"text\": {\"type\": \"nominal\", \"aggregate\": \"count\", \"field\": \"index\"}, \"x\": {\"type\": \"ordinal\", \"field\": \"TYPE\"}, \"y\": {\"type\": \"ordinal\", \"axis\": null, \"field\": \"index\", \"sort\": [\"Rogue One\", \"Finding Dory\", \"Captain America: Civil War\", \"The Secret Life of Pets\", \"The Jungle Book\", \"Deadpool\", \"Zootopia\", \"Batman v Superman: Dawn of Justice\", \"Suicide Squad\", \"Sing\", \"Moana\", \"Fantastic Beasts and Where to Find Them\", \"Doctor Strange\", \"Hidden Figures\", \"Jason Bourne\", \"Star Trek Beyond\", \"X-Men: Apocalypse\", \"Trolls\", \"La La Land\", \"Kung Fu Panda 3\", \"Ghostbusters\", \"Central Intelligence\", \"The Legend of Tarzan\", \"Sully\", \"Bad Moms\", \"The Angry Birds Movie\", \"Independence Day: Resurgence\", \"The Conjuring 2\", \"Arrival\", \"Passengers\", \"Sausage Party\", \"The Magnificent Seven\", \"Ride Along 2\", \"Don't Breathe\", \"Miss Peregrine's Home for Peculiar Children\", \"The Accountant\", \"Teenage Mutant Ninja Turtles: Out of the Shadows\", \"The Purge: Election Year\", \"Alice Through the Looking Glass\", \"Pete's Dragon\", \"The Girl on the Train\", \"Boo! A Madea Halloween\", \"Storks\", \"10 Cloverfield Lane\", \"Lights Out\", \"Hacksaw Ridge\", \"Allegiant\", \"Now You See Me 2\", \"Ice Age: Collision Course\", \"The Boss\"]}}, \"transform\": [{\"filter\": \"(((datum.TYPE !== 'Unknown') && (datum.GENDER !== 'Unknown')) && (datum.GENDER !== 'null'))\"}, {\"filter\": \"(datum.GENDER === 'Male')\"}]}]}], \"data\": {\"url\": \"altair-data-b2fe8fb5616f2f0ec61f01d320bf8001.json\", \"format\": {\"type\": \"json\"}}, \"$schema\": \"https://vega.github.io/schema/vega-lite/v4.0.2.json\"}, {\"mode\": \"vega-lite\"});\n",
       "</script>"
      ],
      "text/plain": [
       "alt.HConcatChart(...)"
      ]
     },
     "execution_count": 65,
     "metadata": {},
     "output_type": "execute_result"
    }
   ],
   "source": [
    "# create the visualization\n",
    "f_a_1 | middle | m_a_1"
   ]
  },
  {
   "cell_type": "code",
   "execution_count": null,
   "metadata": {},
   "outputs": [],
   "source": []
  }
 ],
 "metadata": {
  "kernelspec": {
   "display_name": "Python 3",
   "language": "python",
   "name": "python3"
  },
  "language_info": {
   "codemirror_mode": {
    "name": "ipython",
    "version": 3
   },
   "file_extension": ".py",
   "mimetype": "text/x-python",
   "name": "python",
   "nbconvert_exporter": "python",
   "pygments_lexer": "ipython3",
   "version": "3.7.10"
  }
 },
 "nbformat": 4,
 "nbformat_minor": 2
}
